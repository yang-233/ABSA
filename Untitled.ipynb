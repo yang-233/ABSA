{
 "cells": [
  {
   "cell_type": "code",
   "execution_count": 8,
   "metadata": {},
   "outputs": [
    {
     "data": {
      "text/plain": [
       "(tensor([[1, 2, 3],\n",
       "         [6, 0, 0],\n",
       "         [4, 5, 0]]),\n",
       " tensor([3, 1, 2]))"
      ]
     },
     "execution_count": 8,
     "metadata": {},
     "output_type": "execute_result"
    }
   ],
   "source": [
    "import torch as t\n",
    "from torch.nn.utils.rnn import pack_padded_sequence, pad_packed_sequence\n",
    "\n",
    "a = t.tensor([[1,2,3],[6,0,0],[4,5,0]]) #(batch_size, max_length)\n",
    "lengths = t.tensor([3,1,2])\n",
    "\n",
    "a, lengths"
   ]
  },
  {
   "cell_type": "code",
   "execution_count": 15,
   "metadata": {},
   "outputs": [
    {
     "data": {
      "text/plain": [
       "(tensor([[1, 2, 3, 4],\n",
       "         [2, 0, 0, 0],\n",
       "         [1, 2, 3, 0],\n",
       "         [2, 1, 0, 0]]),\n",
       " tensor([4, 1, 3, 2]))"
      ]
     },
     "execution_count": 15,
     "metadata": {},
     "output_type": "execute_result"
    }
   ],
   "source": [
    "b = t.tensor([[1, 2, 3, 4], [2, 0, 0, 0], [1, 2, 3, 0], [2, 1, 0, 0]])\n",
    "b_len = t.tensor([4, 1, 3, 2])\n",
    "b, b_len"
   ]
  },
  {
   "cell_type": "code",
   "execution_count": 16,
   "metadata": {},
   "outputs": [
    {
     "data": {
      "text/plain": [
       "(tensor([4, 3, 2, 1]), tensor([0, 2, 3, 1]))"
      ]
     },
     "execution_count": 16,
     "metadata": {},
     "output_type": "execute_result"
    }
   ],
   "source": [
    "b_lens, idx = b_len.sort(0, descending=True)\n",
    "b_lens, idx"
   ]
  },
  {
   "cell_type": "code",
   "execution_count": 19,
   "metadata": {},
   "outputs": [
    {
     "data": {
      "text/plain": [
       "(tensor([0, 1, 2, 3]), tensor([0, 3, 1, 2]))"
      ]
     },
     "execution_count": 19,
     "metadata": {},
     "output_type": "execute_result"
    }
   ],
   "source": [
    "_, un_idx = t.sort(idx, dim=0)\n",
    "_, un_idx"
   ]
  },
  {
   "cell_type": "code",
   "execution_count": 18,
   "metadata": {},
   "outputs": [
    {
     "data": {
      "text/plain": [
       "tensor([[1, 2, 3, 4],\n",
       "        [2, 1, 0, 0],\n",
       "        [2, 0, 0, 0],\n",
       "        [1, 2, 3, 0]])"
      ]
     },
     "execution_count": 18,
     "metadata": {},
     "output_type": "execute_result"
    }
   ],
   "source": [
    "b[idx][idx]"
   ]
  },
  {
   "cell_type": "code",
   "execution_count": 11,
   "metadata": {},
   "outputs": [
    {
     "name": "stdout",
     "output_type": "stream",
     "text": [
      "tensor([0, 2, 1])\n",
      "tensor([0, 2, 1])\n",
      "tensor([0, 1, 2]) tensor([0, 2, 1])\n"
     ]
    },
    {
     "data": {
      "text/plain": [
       "(tensor([[1, 2, 3],\n",
       "         [4, 5, 0],\n",
       "         [6, 0, 0]]),\n",
       " tensor([3, 2, 1]))"
      ]
     },
     "execution_count": 11,
     "metadata": {},
     "output_type": "execute_result"
    }
   ],
   "source": [
    "# 排序\n",
    "a_lengths, idx = lengths.sort(0, descending=True)\n",
    "print(idx)\n",
    "_, un_idx = t.sort(idx, dim=0)\n",
    "print(idx)\n",
    "print(_, un_idx)\n",
    "a = a[idx]\n",
    "a, a_lengths "
   ]
  },
  {
   "cell_type": "code",
   "execution_count": 13,
   "metadata": {},
   "outputs": [
    {
     "data": {
      "text/plain": [
       "tensor([[1, 2, 3],\n",
       "        [6, 0, 0],\n",
       "        [4, 5, 0]])"
      ]
     },
     "execution_count": 13,
     "metadata": {},
     "output_type": "execute_result"
    }
   ],
   "source": [
    "a[idx]"
   ]
  },
  {
   "cell_type": "code",
   "execution_count": 7,
   "metadata": {},
   "outputs": [
    {
     "data": {
      "text/plain": [
       "(tensor([0, 1, 2]), tensor([0, 2, 1]), tensor([0, 2, 1]))"
      ]
     },
     "execution_count": 7,
     "metadata": {},
     "output_type": "execute_result"
    }
   ],
   "source": [
    "_, un_idx = t.sort(idx, dim=0)\n",
    "_, un_idx, idx"
   ]
  },
  {
   "cell_type": "code",
   "execution_count": null,
   "metadata": {},
   "outputs": [],
   "source": []
  },
  {
   "cell_type": "code",
   "execution_count": null,
   "metadata": {},
   "outputs": [],
   "source": [
    "_, un_idx = t.sort(idx, dim=0)\n",
    "\n",
    "# 定义层 \n",
    "emb = t.nn.Embedding(20,2,padding_idx=0) \n",
    "lstm = t.nn.LSTM(input_size=2, hidden_size=4, batch_first=True) \n",
    "\n",
    "a_input = emb(a)\n",
    "a_packed_input = t.nn.utils.rnn.pack_padded_sequence(input=a_input, lengths=a_lengths, batch_first=True)\n",
    "packed_out, _ = lstm(a_packed_input)\n",
    "out, _ = pad_packed_sequence(packed_out, batch_first=True)\n",
    "# 根据un_idx将输出转回原输入顺序\n",
    "out = t.index_select(out, 0, un_idx)"
   ]
  }
 ],
 "metadata": {
  "kernelspec": {
   "display_name": "Python [conda env:torch1.1.0]",
   "language": "python",
   "name": "conda-env-torch1.1.0-py"
  },
  "language_info": {
   "codemirror_mode": {
    "name": "ipython",
    "version": 3
   },
   "file_extension": ".py",
   "mimetype": "text/x-python",
   "name": "python",
   "nbconvert_exporter": "python",
   "pygments_lexer": "ipython3",
   "version": "3.7.7"
  }
 },
 "nbformat": 4,
 "nbformat_minor": 4
}
