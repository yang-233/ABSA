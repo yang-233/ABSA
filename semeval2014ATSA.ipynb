{
 "cells": [
  {
   "cell_type": "code",
   "execution_count": 1,
   "metadata": {},
   "outputs": [
    {
     "ename": "ModuleNotFoundError",
     "evalue": "No module named 'sklearn'",
     "output_type": "error",
     "traceback": [
      "\u001b[0;31m---------------------------------------------------------------------------\u001b[0m",
      "\u001b[0;31mModuleNotFoundError\u001b[0m                       Traceback (most recent call last)",
      "\u001b[0;32m<ipython-input-1-5c3c2c85ac79>\u001b[0m in \u001b[0;36m<module>\u001b[0;34m\u001b[0m\n\u001b[1;32m     10\u001b[0m \u001b[0;32mfrom\u001b[0m \u001b[0mtyping\u001b[0m \u001b[0;32mimport\u001b[0m \u001b[0;34m*\u001b[0m\u001b[0;34m\u001b[0m\u001b[0;34m\u001b[0m\u001b[0m\n\u001b[1;32m     11\u001b[0m \u001b[0;32mfrom\u001b[0m \u001b[0mutils\u001b[0m \u001b[0;32mimport\u001b[0m \u001b[0mv2c\u001b[0m\u001b[0;34m\u001b[0m\u001b[0;34m\u001b[0m\u001b[0m\n\u001b[0;32m---> 12\u001b[0;31m \u001b[0;32mfrom\u001b[0m \u001b[0mutils\u001b[0m\u001b[0;34m.\u001b[0m\u001b[0msemeval2014\u001b[0m \u001b[0;32mimport\u001b[0m \u001b[0mtools\u001b[0m \u001b[0;32mas\u001b[0m \u001b[0mst\u001b[0m\u001b[0;34m\u001b[0m\u001b[0;34m\u001b[0m\u001b[0m\n\u001b[0m\u001b[1;32m     13\u001b[0m \u001b[0;32mfrom\u001b[0m \u001b[0mutils\u001b[0m\u001b[0;34m.\u001b[0m\u001b[0mhelper\u001b[0m \u001b[0;32mimport\u001b[0m \u001b[0;34m*\u001b[0m\u001b[0;34m\u001b[0m\u001b[0;34m\u001b[0m\u001b[0m\n",
      "\u001b[0;32m~/workspace/ABSA/utils/semeval2014/tools.py\u001b[0m in \u001b[0;36m<module>\u001b[0;34m\u001b[0m\n\u001b[1;32m      4\u001b[0m \u001b[0;32mimport\u001b[0m \u001b[0mxml\u001b[0m\u001b[0;34m.\u001b[0m\u001b[0metree\u001b[0m\u001b[0;34m.\u001b[0m\u001b[0mElementTree\u001b[0m \u001b[0;32mas\u001b[0m \u001b[0mET\u001b[0m\u001b[0;34m\u001b[0m\u001b[0;34m\u001b[0m\u001b[0m\n\u001b[1;32m      5\u001b[0m \u001b[0;32mimport\u001b[0m \u001b[0mcopy\u001b[0m\u001b[0;34m\u001b[0m\u001b[0;34m\u001b[0m\u001b[0m\n\u001b[0;32m----> 6\u001b[0;31m \u001b[0;32mfrom\u001b[0m \u001b[0msklearn\u001b[0m \u001b[0;32mimport\u001b[0m \u001b[0mmetrics\u001b[0m\u001b[0;34m\u001b[0m\u001b[0;34m\u001b[0m\u001b[0m\n\u001b[0m\u001b[1;32m      7\u001b[0m \u001b[0;34m\u001b[0m\u001b[0m\n\u001b[1;32m      8\u001b[0m \u001b[0;31m#尽量保持原代码不变\u001b[0m\u001b[0;34m\u001b[0m\u001b[0;34m\u001b[0m\u001b[0;34m\u001b[0m\u001b[0m\n",
      "\u001b[0;31mModuleNotFoundError\u001b[0m: No module named 'sklearn'"
     ]
    }
   ],
   "source": [
    "import numpy as np\n",
    "import torch\n",
    "from torch import nn\n",
    "from torch.utils.data import Dataset, DataLoader\n",
    "from torch.nn.utils.rnn import *\n",
    "\n",
    "from matplotlib import pyplot as plt\n",
    "from IPython import display\n",
    "\n",
    "from typing import *\n",
    "from utils import v2c\n",
    "from utils.semeval2014 import tools as st\n",
    "from utils.helper import *"
   ]
  },
  {
   "cell_type": "code",
   "execution_count": 3,
   "metadata": {},
   "outputs": [],
   "source": [
    "class ABSACLSDataSet(Dataset):\n",
    "    def __init__(self, items:st.ATSAItems, tokenizer:v2c.SimpleTokenizer):\n",
    "        self.size = len(items)\n",
    "        self.texts = [tokenizer.tokenize(i) for i in items.text]\n",
    "        self.terms = [tokenizer.tokenize(i) for i in items.term]\n",
    "        self.y = items.get_y()\n",
    "\n",
    "    def __getitem__(self, idx):\n",
    "        return self.texts[idx], self.terms[idx], self.y[idx]\n",
    "    \n",
    "    def __len__(self):\n",
    "        return self.size\n",
    "    \n",
    "def pad(batch:List[List[int]], padding_val:int=0):\n",
    "    \"\"\"\n",
    "    给一个batch中所有行补齐到batch最长长度\n",
    "    \"\"\"\n",
    "    lens = list(map(len, batch))\n",
    "    max_lens = max(map(len, batch))\n",
    "    for i, j in enumerate(batch):\n",
    "        j += [padding_val] * (max_lens - lens[i])\n",
    "    return torch.LongTensor(batch), torch.LongTensor(lens)\n",
    "\n",
    "def batch_pad(batch, padding_val:int=0): # 采集到的batch组成模型需要的输入形式\n",
    "    texts = []\n",
    "    terms = []\n",
    "    y = []\n",
    "    for i in batch:\n",
    "        texts.append(i[0])\n",
    "        terms.append(i[1])\n",
    "        y.append(i[2])\n",
    "    texts, texts_lens = pad(texts)\n",
    "    terms, terms_lens = pad(terms)\n",
    "    y = torch.LongTensor(y)\n",
    "    return (texts, texts_lens, terms, terms_lens), y"
   ]
  },
  {
   "cell_type": "code",
   "execution_count": 4,
   "metadata": {},
   "outputs": [],
   "source": [
    "def packed_RNN_forward(rnn:nn.Module, embedding:nn.Embedding, batch:torch.LongTensor, lens:torch.LongTensor):\n",
    "    #print(type(rnn))\n",
    "    assert rnn.batch_first == True #必须是batch在前面\n",
    "    new_lens, idx = lens.sort(dim=0, descending=True) # 按长度降序排列\n",
    "    _, re_idx = idx.sort(dim=0) #用于还原的索引\n",
    "    batch = batch[idx] # 按长度下降顺序排列整个batch\n",
    "    X = embedding(batch)\n",
    "    packed_X = pack_padded_sequence(input=X, lengths=new_lens, batch_first=True) # 注意batch_first\n",
    "    packed_out, h_n = rnn(packed_X) # 和普通的rnn返回值是一样的, output, h_n\n",
    "    out, _ = pad_packed_sequence(packed_out, batch_first=True) # 只有output是被压缩的\n",
    "    return torch.index_select(out, 0, re_idx), h_n # 还原输出, 并保持"
   ]
  },
  {
   "cell_type": "code",
   "execution_count": 4,
   "metadata": {},
   "outputs": [],
   "source": [
    "class ABSACLSLSTMModel(nn.Module):\n",
    "    '''\n",
    "    用于ATSA任务或ACSA任务，使用LSTM分别建模上下文和term(或category)，\n",
    "    再将两者的h_n拼接再一起使用全连接网络\n",
    "    '''\n",
    "    def __init__(self, weights:np.ndarray, text_hidden_size:int, text_num_layers:int, \n",
    "                 term_hidden_size:int, term_num_layers:int, fc_hidden_size:int,\n",
    "                 output_size:int, freeze_embedding=False, # 固定词向量\n",
    "                 text_bidirectional:bool=False, text_dropout:float=0.,\n",
    "                 term_bidirectional:bool=False, term_dropout:float=0.,\n",
    "                 fc_dropout=0.\n",
    "                ):\n",
    "        super(ABSACLSLSTMModel, self).__init__()\n",
    "        self.input_size = weights.shape[1] # 输入维度\n",
    "        self.word_embedding = nn.Embedding.from_pretrained(torch.from_numpy(weights)) \n",
    "        self.word_embedding.weight.requires_grad = not freeze_embedding # 是否固定词向量\n",
    "        \n",
    "        self.text_lstm = nn.LSTM(input_size=self.input_size, hidden_size=text_hidden_size,\n",
    "                                num_layers=text_num_layers,\n",
    "                                bidirectional=text_bidirectional, \n",
    "                                batch_first=False,\n",
    "                                dropout=text_dropout)\n",
    "        self.term_lstm = nn.LSTM(input_size=self.input_size, hidden_size=term_hidden_size,\n",
    "                                num_layers=term_num_layers,\n",
    "                                bidirectional=term_bidirectional, \n",
    "                                batch_first=False,\n",
    "                                dropout=term_dropout)\n",
    "        \n",
    "#         self.fc = nn.Linear(text_hidden_size * (2 if text_bidirectional else 1) * text_num_layers +\n",
    "#                            term_hidden_size * (2 if term_bidirectional else 1) * term_num_layers,\n",
    "#                             fc_hidden_size)\n",
    "        \n",
    "#        self.fc_relu = nn.ReLU()\n",
    "#        self.fc_dropout = nn.Dropout(fc_dropout)\n",
    "#        self.output = nn.Linear(fc_hidden_size, output_size)\n",
    "        self.output = nn.Linear(text_hidden_size * (2 if text_bidirectional else 1) * text_num_layers +\n",
    "                            term_hidden_size * (2 if term_bidirectional else 1) * term_num_layers, output_size)\n",
    "        \n",
    "    def forward(self, X):\n",
    "        texts, texts_lens, terms, terms_lens = X\n",
    "#         text_output, (text_hn, text_cn) = packed_RNN_forward(self.text_lstm, self.word_embedding, \n",
    "#                                                                texts, texts_lens)\n",
    "        \n",
    "#         terms_output, (term_hn, term_cn) = packed_RNN_forward(self.term_lstm, self.word_embedding, \n",
    "#                                                                 terms, terms_lens)\n",
    "        #print(text_hn.shape, term_hn.shape)\n",
    "        # h_n, c_n (hidden_layers * , batch_size, hidden_size)\n",
    "        texts, terms = self.word_embedding(texts), self.word_embedding(terms)\n",
    "        \n",
    "        texts = texts.permute((1, 0, 2)).contiguous()\n",
    "        terms = terms.permute((1, 0, 2)).contiguous()\n",
    "        \n",
    "        _, (text_hn, __) = self.text_lstm(texts)\n",
    "        _, (term_hn, __) = self.term_lstm(terms)\n",
    "        \n",
    "        text_hn = text_hn.permute((1, 0, 2)).contiguous() # 后面需要变形所以要保证内存连续\n",
    "        term_hn = term_hn.permute((1, 0, 2)).contiguous()\n",
    "        #print(text_hn.shape, term_hn.shape)\n",
    "        text_hn = text_hn.view(text_hn.shape[0], -1)\n",
    "        term_hn = term_hn.view(term_hn.shape[0], -1)\n",
    "        \n",
    "        fc_in = torch.cat((text_hn, term_hn), dim=1) # 拼接\n",
    "        #print(fc_in.shape)\n",
    "#         fc_output = self.fc(fc_in) # 全连接\n",
    "#        fc_output = self.fc_relu(fc_in) # 激活函数\n",
    "#        fc_output = self.fc_dropout(fc_output) # dropout\n",
    "        output = self.output(fc_in)\n",
    "        return output"
   ]
  },
  {
   "cell_type": "code",
   "execution_count": 6,
   "metadata": {},
   "outputs": [
    {
     "ename": "SyntaxError",
     "evalue": "invalid syntax (<string>, line 1)",
     "output_type": "error",
     "traceback": [
      "\u001b[0;31m---------------------------------------------------------------------------\u001b[0m\n\u001b[0;31mSyntaxError\u001b[0m                               Traceback (most recent call last)",
      "File \u001b[0;34m/home/ly/miniconda3/envs/torch1.1.0/lib/python3.7/ast.py\u001b[0m, in \u001b[0;32mparse\u001b[0m:\nLine \u001b[0;34m35\u001b[0m:    \u001b[34mreturn\u001b[39;49;00m \u001b[36mcompile\u001b[39;49;00m(source, filename, mode, PyCF_ONLY_AST)\n",
      "\u001b[0;31mSyntaxError\u001b[0m: invalid syntax (<string>, line 1)\n\u001b[0;31m---------------------------------------------------------------------------\u001b[0m"
     ]
    }
   ],
   "source": [
    "%%time \n",
    "# 测试模型是否行得通\n",
    "def test():\n",
    "    vocab_size, d = 5, 3 \n",
    "    weights = np.ones((vocab_size, 3))\n",
    "    weights = v2c.get_embedding_weights(weights) # 填加一行0在0处， 添加一行unk在-1处\n",
    "    #print(weights)\n",
    "    text_hidden_size, text_num_layers = 10, 2\n",
    "    term_hidden_size, term_num_layers = 8, 1\n",
    "    fc_hidder_size, output_size = 64, 3\n",
    "    model = ABSACLSLSTMModel(weights, text_hidden_size, text_num_layers,\n",
    "                            term_hidden_size, term_num_layers, fc_hidder_size, output_size)\n",
    "    #print(model)\n",
    "    texts = torch.LongTensor([[1, 2, 3, 4], \n",
    "                             [1, 6, 0, 0],\n",
    "                             [5, 0, 0, 0],\n",
    "                             [3, 4, 1, 0],\n",
    "                             [2, 3, 4, 5]])\n",
    "    texts_lens = torch.LongTensor([4, 2, 1, 3, 4])\n",
    "    \n",
    "    terms = torch.LongTensor([[1, 2, 0],\n",
    "                             [1, 3, 4],\n",
    "                             [2, 0, 0],\n",
    "                             [5, 6, 1],\n",
    "                             [2, 0, 0]])\n",
    "    terms_lens = torch.LongTensor([2, 3, 1, 3, 1])\n",
    "    \n",
    "    t_embd = nn.Embedding.from_pretrained(torch.from_numpy(weights))\n",
    "    #indices = torch.LongTensor([3, 4, 5, 6, -1]) embedding不支持使用-1去索引\n",
    "    #print(t_embd(indices))\n",
    "    #print(t_embd(text))\n",
    "    #print(model.word_embedding(text))\n",
    "    \n",
    "    #text_lstm = nn.LSTM(d, text_hidden_size, text_num_layers, batch_first=True)\n",
    "    #term_lstm = nn.LSTM(d, term_hidden_size, term_num_layers, batch_first=True)\n",
    "    #print(type(text_lstm))\n",
    "    #X = t_embd(texts)\n",
    "    #output, (h_n, c_n) = text_lstm(X)\n",
    "    #X = t_embd(terms)\n",
    "    #output, (h_n, c_n) = term_lstm(X)\n",
    "    #print(output.shape, h_n.shape, c_n.shape)\n",
    "    print(model((texts, texts_lens, terms, terms_lens)))\n",
    "    #print(predict(model, (texts, texts_lens, terms, terms_lens)))\n",
    "#test()"
   ]
  },
  {
   "cell_type": "code",
   "execution_count": 7,
   "metadata": {},
   "outputs": [],
   "source": [
    "def predict(model:nn.Module, batch:tuple) -> torch.Tensor:\n",
    "    res = model(*batch)\n",
    "    y = res.argmax(dim=1)\n",
    "    return y\n",
    "def to_cuda(var):\n",
    "    if isinstance(var, torch.Tensor):\n",
    "        return var.cuda()\n",
    "    else:\n",
    "        return tuple(to_cuda(i) for i in var) # 递归下去\n",
    "\n",
    "    \n",
    "def _draw(train_loss:List[float], test_loss:List[float], \n",
    "          test_acc:List[float], test_f1:List[float], figsize:Tuple[int, int]=(16, 6)):\n",
    "\n",
    "    plt.figure(12, figsize=figsize)\n",
    "    \n",
    "    def plot(vals, color, label):\n",
    "        x = list(range(len(vals)))\n",
    "        y = vals\n",
    "        plt.plot(x, y, c=color, label=label)\n",
    "        \n",
    "    plt.subplot(121)\n",
    "    plot(train_loss, \"red\", \"Train loss\")\n",
    "    plot(test_loss, \"blue\", \"Test loss\")\n",
    "    plt.xlabel(\"Batches\")\n",
    "    plt.title(\"Loss\")\n",
    "    \n",
    "    #if not only_test:\n",
    "    #    plt.plot(epoches, train_acc, c=\"red\", label=\"Train accuracy\")\n",
    "    #    plt.plot(epoches, train_f1, c=\"purple\", label=\"Train f1\")\n",
    "    plt.subplot(122)\n",
    "    plot(test_acc, \"green\", \"Test accuracy\")\n",
    "    plot(test_f1, \"blue\", \"Test f1\")\n",
    "    plt.xlabel(\"Epoches\")\n",
    "    plt.title(\"Accuracy and F1\")\n",
    "    \n",
    "    display.display(plt.gcf())\n",
    "    display.clear_output(wait=True)\n",
    "\n",
    "def train(writer:SummaryWriter, model:nn.Module, optimizer:torch.optim.Optimizer, loss:Callable,\n",
    "          train_dataloader:DataLoader, test_dataloader:DataLoader, \n",
    "          num_epoches:int, use_cuda:bool=True, draw:bool=True):\n",
    "    train_loss = [0.]\n",
    "    test_loss = [0.]\n",
    "    test_acc = [0.]\n",
    "    test_f1 = [0.]\n",
    "    all_y_pred = []\n",
    "    all_y_true = []\n",
    "    for i in range(num_epoches):\n",
    "        #train\n",
    "        model.train()\n",
    "        for X, y in train_dataloader:\n",
    "            if use_cuda:\n",
    "                X, y = to_cuda((X, y))\n",
    "            res = model(X)\n",
    "            l = loss(res, y)\n",
    "            train_loss.append(l.item())\n",
    "            if len(train_loss) % 10 == 1:\n",
    "                writer.add_scalar(\"Train_loss\", train_loss[-1], len(train_loss)) # 打印loss\n",
    "            if draw:\n",
    "                _draw(train_loss, test_loss, test_acc, test_f1)\n",
    "            #反向传播\n",
    "            optimizer.zero_grad()\n",
    "            l.backward()\n",
    "#             if grad_clip:\n",
    "#                 nn.utils.clip_grad_norm_(net.parameters(), max_norm=20, norm_type=2)\n",
    "            optimizer.step()\n",
    "        #eval\n",
    "        with torch.no_grad():\n",
    "            model.eval()\n",
    "            y_pred = []\n",
    "            y_true = []\n",
    "            for X, y in test_dataloader:\n",
    "                y_true += list(y.cpu().view(-1))#真实标签\n",
    "                if use_cuda:\n",
    "                    X, y = to_cuda((X, y))\n",
    "                res = model(X)\n",
    "                l = loss(res, y)\n",
    "                test_loss.append(l.item())\n",
    "                if len(test_loss) % 10 == 1:\n",
    "                    writer.add_scalar(\"Test_loss\", test_loss[-1], len(test_loss)) # 打印loss\n",
    "                if draw:\n",
    "                    _draw(train_loss, test_loss, test_acc, test_f1)\n",
    "                y_pred += list(res.argmax(dim=1).cpu().view(-1)) # 预测的标签\n",
    "                all_y_pred.append(y_pred)\n",
    "                all_y_true.append(y_true)\n",
    "        acc, f1 = st.classifer_evaluate(y_true, y_pred) # 计算acc 和 f1\n",
    "        test_acc.append(acc)\n",
    "        test_f1.append(f1)\n",
    "        writer.add_scalar(\"Test_accuracy\", test_acc[-1], len(test_acc))\n",
    "        writer.add_scalar(\"Test_f1\", test_f1[-1], len(test_f1))\n",
    "        if draw:\n",
    "            _draw(train_loss, test_loss, test_acc, test_f1)\n",
    "    return train_loss, test_loss, test_acc, test_f1, all_y_pred, all_y_true"
   ]
  },
  {
   "cell_type": "code",
   "execution_count": 7,
   "metadata": {},
   "outputs": [],
   "source": [
    "# %%time\n",
    "# #测试\n",
    "# #加载初始化权重\n",
    "# #vocab, weights = v2c.load_glove()\n",
    "# vocab = v2c.load_vocab()\n",
    "# weights = np.ones((len(vocab), 3), dtype=np.float32)\n",
    "# weights = v2c.get_embedding_weights(weights)\n",
    "# print(weights.shape, weights.dtype)\n",
    "# tokenizer = v2c.SimpleTokenizer(vocab)\n",
    "\n",
    "# text_hidden_size, text_num_layers = 5, 2\n",
    "# term_hidden_size, term_num_layers = 4, 1\n",
    "# fc_hidden_size, output_size = 32, 3\n",
    "# model = ABSACLSLSTMModel(weights, text_hidden_size, text_num_layers, term_hidden_size, term_num_layers, \n",
    "#                          fc_hidden_size, output_size, text_bidirectional=True, text_dropout=0.5, term_dropout=0.5, fc_dropout=0.5)\n",
    "# model"
   ]
  },
  {
   "cell_type": "code",
   "execution_count": 8,
   "metadata": {},
   "outputs": [],
   "source": [
    "rest_train_path = \"./dataset/semeval2014/Restaurants_Train_v2.xml\"\n",
    "rest_test_path = \"./dataset/semeval2014/Restaurants_Test_Gold.xml\"\n",
    "lap_train_path = \"./dataset/semeval2014/Laptop_Train_v2.xml\"\n",
    "lap_test_path = \"./dataset/semeval2014/Laptops_Test_Gold.xml\"\n",
    "rest_train = st.Semeval2014DataSet(rest_train_path)\n",
    "rest_ATSA_train_items = rest_train.get_ATSAItems()\n",
    "rest_test = st.Semeval2014DataSet(rest_test_path)\n",
    "rest_ATSA_test_items = rest_test.get_ATSAItems()"
   ]
  },
  {
   "cell_type": "code",
   "execution_count": 9,
   "metadata": {},
   "outputs": [
    {
     "ename": "SyntaxError",
     "evalue": "invalid syntax (<string>, line 1)",
     "output_type": "error",
     "traceback": [
      "\u001b[0;31m---------------------------------------------------------------------------\u001b[0m\n\u001b[0;31mSyntaxError\u001b[0m                               Traceback (most recent call last)",
      "File \u001b[0;34m/home/ly/miniconda3/envs/torch1.1.0/lib/python3.7/ast.py\u001b[0m, in \u001b[0;32mparse\u001b[0m:\nLine \u001b[0;34m35\u001b[0m:    \u001b[34mreturn\u001b[39;49;00m \u001b[36mcompile\u001b[39;49;00m(source, filename, mode, PyCF_ONLY_AST)\n",
      "\u001b[0;31mSyntaxError\u001b[0m: invalid syntax (<string>, line 1)\n\u001b[0;31m---------------------------------------------------------------------------\u001b[0m"
     ]
    }
   ],
   "source": [
    "%%time\n",
    "#加载初始化权重\n",
    "vocab = v2c.load_vocab()\n",
    "weights = np.random.uniform(-0.1, 0.1, (len(vocab), 10))\n",
    "#vocab, weights = v2c.load_glove()\n",
    "weights = v2c.get_embedding_weights(weights)\n",
    "print(weights.shape, weights.dtype)\n",
    "tokenizer = v2c.SimpleTokenizer(vocab)"
   ]
  },
  {
   "cell_type": "code",
   "execution_count": 10,
   "metadata": {},
   "outputs": [],
   "source": [
    "batch_size = 256\n",
    "rest_ATSA_train_dataset = ABSACLSDataSet(rest_ATSA_train_items, tokenizer)\n",
    "rest_ATSA_test_dataset = ABSACLSDataSet(rest_ATSA_test_items, tokenizer)\n",
    "train_data = DataLoader(rest_ATSA_train_dataset, batch_size=batch_size, num_workers=8, shuffle=True,  collate_fn=batch_pad)\n",
    "#测试集不能打乱\n",
    "test_data = DataLoader(rest_ATSA_test_dataset, batch_size=batch_size, num_workers=8, shuffle=False,  collate_fn=batch_pad) "
   ]
  },
  {
   "cell_type": "code",
   "execution_count": 11,
   "metadata": {},
   "outputs": [
    {
     "name": "stderr",
     "output_type": "stream",
     "text": [
      "/home/ly/miniconda3/envs/torch1.1.0/lib/python3.7/site-packages/torch/nn/modules/rnn.py:54: UserWarning: dropout option adds dropout after all but last recurrent layer, so non-zero dropout expects num_layers greater than 1, but got dropout=0.5 and num_layers=1\n",
      "  \"num_layers={}\".format(dropout, num_layers))\n"
     ]
    },
    {
     "name": "stdout",
     "output_type": "stream",
     "text": [
      "ABSACLSLSTMModel(\n",
      "  (word_embedding): Embedding(400002, 10)\n",
      "  (text_lstm): LSTM(10, 20, dropout=0.5, bidirectional=True)\n",
      "  (term_lstm): LSTM(10, 20, dropout=0.5)\n",
      "  (fc_relu): ReLU()\n",
      "  (fc_dropout): Dropout(p=0.5)\n",
      "  (output): Linear(in_features=60, out_features=3, bias=True)\n",
      ")\n"
     ]
    }
   ],
   "source": [
    "text_hidden_size, text_num_layers = 20, 1\n",
    "term_hidden_size, term_num_layers = 20, 1\n",
    "fc_hidden_size, output_size = 40, 3\n",
    "model = ABSACLSLSTMModel(weights, text_hidden_size, text_num_layers, term_hidden_size, term_num_layers, \n",
    "                         fc_hidden_size, output_size, text_bidirectional=True, text_dropout=0.5, term_dropout=0.5, fc_dropout=0.5)\n",
    "print(model)\n",
    "torch.cuda.set_device(1)\n",
    "model = model.cuda()\n",
    "loss = nn.CrossEntropyLoss()"
   ]
  },
  {
   "cell_type": "code",
   "execution_count": 15,
   "metadata": {},
   "outputs": [
    {
     "name": "stdout",
     "output_type": "stream",
     "text": [
      "CPU times: user 1min 18s, sys: 4.36 s, total: 1min 22s\n",
      "Wall time: 1min 22s\n"
     ]
    },
    {
     "data": {
      "image/png": "[encoded data removed]",
      "text/plain": [
       "<Figure size 1152x432 with 2 Axes>"
      ]
     },
     "metadata": {
      "needs_background": "light"
     },
     "output_type": "display_data"
    }
   ],
   "source": [
    "%%time\n",
    "writer = time_writer()\n",
    "optimizer = torch.optim.Adam(filter(lambda p:p.requires_grad, model.parameters()), lr=0.003, amsgrad=True)\n",
    "train_loss, test_loss, test_acc, test_f1, y_pred, y_true= train(writer, model, optimizer, loss, train_data, test_data, 10)\n",
    "torch.cuda.empty_cache()"
   ]
  },
  {
   "cell_type": "code",
   "execution_count": 13,
   "metadata": {},
   "outputs": [
    {
     "ename": "NameError",
     "evalue": "name 'y_true' is not defined",
     "output_type": "error",
     "traceback": [
      "\u001b[0;31m---------------------------------------------------------------------------\u001b[0m",
      "\u001b[0;31mNameError\u001b[0m                                 Traceback (most recent call last)",
      "\u001b[0;32m<ipython-input-13-2b07a096348a>\u001b[0m in \u001b[0;36m<module>\u001b[0;34m\u001b[0m\n\u001b[0;32m----> 1\u001b[0;31m \u001b[0mt1\u001b[0m \u001b[0;34m=\u001b[0m \u001b[0mtorch\u001b[0m\u001b[0;34m.\u001b[0m\u001b[0mtensor\u001b[0m\u001b[0;34m(\u001b[0m\u001b[0my_true\u001b[0m\u001b[0;34m[\u001b[0m\u001b[0;36m0\u001b[0m\u001b[0;34m]\u001b[0m\u001b[0;34m)\u001b[0m\u001b[0;34m\u001b[0m\u001b[0;34m\u001b[0m\u001b[0m\n\u001b[0m\u001b[1;32m      2\u001b[0m \u001b[0mt2\u001b[0m \u001b[0;34m=\u001b[0m \u001b[0mtorch\u001b[0m\u001b[0;34m.\u001b[0m\u001b[0mtensor\u001b[0m\u001b[0;34m(\u001b[0m\u001b[0mrest_ATSA_test_items\u001b[0m\u001b[0;34m.\u001b[0m\u001b[0mget_y\u001b[0m\u001b[0;34m(\u001b[0m\u001b[0;34m)\u001b[0m\u001b[0;34m)\u001b[0m\u001b[0;34m\u001b[0m\u001b[0;34m\u001b[0m\u001b[0m\n",
      "\u001b[0;31mNameError\u001b[0m: name 'y_true' is not defined"
     ]
    }
   ],
   "source": [
    "t1 = torch.tensor(y_true[0])\n",
    "t2 = torch.tensor(rest_ATSA_test_items.get_y())"
   ]
  },
  {
   "cell_type": "code",
   "execution_count": null,
   "metadata": {},
   "outputs": [],
   "source": [
    "t1.sum(), len(t1)"
   ]
  },
  {
   "cell_type": "code",
   "execution_count": null,
   "metadata": {},
   "outputs": [],
   "source": []
  }
 ],
 "metadata": {
  "kernelspec": {
   "display_name": "Python [conda env:torch1.6.0]",
   "language": "python",
   "name": "conda-env-torch1.6.0-py"
  },
  "language_info": {
   "codemirror_mode": {
    "name": "ipython",
    "version": 3
   },
   "file_extension": ".py",
   "mimetype": "text/x-python",
   "name": "python",
   "nbconvert_exporter": "python",
   "pygments_lexer": "ipython3",
   "version": "3.7.9"
  }
 },
 "nbformat": 4,
 "nbformat_minor": 4
}
